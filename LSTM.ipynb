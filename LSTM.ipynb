{
 "cells": [
  {
   "cell_type": "markdown",
   "id": "dc348075-39f4-407e-a371-aa2b87cc3463",
   "metadata": {},
   "source": [
    "Import libraries and modules"
   ]
  },
  {
   "cell_type": "code",
   "execution_count": null,
   "id": "962d753d-9382-4e87-9900-7cc31f439cd4",
   "metadata": {},
   "outputs": [],
   "source": [
    "import pandas as pd\n",
    "import numpy as np\n",
    "from sklearn.model_selection import train_test_split\n",
    "from sklearn.preprocessing import MinMaxScaler\n",
    "import tensorflow as tf\n",
    "from tensorflow.keras.models import Sequential\n",
    "from tensorflow.keras.layers import Dense, LSTM, Input\n",
    "import matplotlib.pyplot as plt\n",
    "from sklearn.metrics import mean_squared_error, r2_score"
   ]
  },
  {
   "cell_type": "markdown",
   "id": "383b74c4-ad47-4385-a0d9-8d9fa9eaee0a",
   "metadata": {},
   "source": [
    "Load the dataset"
   ]
  },
  {
   "cell_type": "code",
   "execution_count": null,
   "id": "d65efcd9-9922-4aa3-bf77-d7e347b8b87e",
   "metadata": {},
   "outputs": [],
   "source": [
    "\n",
    "data = {\n",
    "    'TIME': ['day-1; 1pm', 'day-1; 7pm', 'day-2; 1am', 'day-2; 7am', 'day-2; 1pm', 'day-2; 7pm', 'day-3; 1am', 'day-3; 7am', 'day-3; 1pm', 'day-3; 7pm',\n",
    "             'day-4; 1am', 'day-4; 7am', 'day-4; 1pm', 'day-4; 7pm', 'day-5; 1am', 'day-5; 7am', 'day-5; 1pm', 'day-5; 7pm', 'day-6; 1am', 'day-6; 7am',\n",
    "             'day-6; 1pm', 'day-6; 7pm', 'day-7; 1am', 'day-7; 7am', 'day-7; 1pm', 'day-7; 7pm', 'day-8; 1am', 'day-8; 7am', 'day-8; 1pm', 'day-8; 7pm',\n",
    "             'day-9; 1am', 'day-9; 7am', 'day-9; 1pm', 'day-9; 7pm', 'day-10; 1am', 'day-10; 7am', 'day-10; 1pm', 'day-10; 7pm', 'day-11; 1am', 'day-11; 7am',\n",
    "             'day-11; 1pm', 'day-11; 7pm', 'day-12; 1am', 'day-12; 7am', 'day-12; 1pm', 'day-12; 7pm', 'day-13; 1am', 'day-13; 7am', 'day-13; 1pm', 'day-13; 7pm',\n",
    "             'day-14; 1am', 'day-14; 7am', 'day-14; 1pm', 'day-14; 7pm', 'day-15; 1am', 'day-15; 7am', 'day-15; 1pm', 'day-15; 7pm', 'day-16; 1am', 'day-16; 7am',\n",
    "             'day-16; 1pm', 'day-16; 7pm', 'day-17; 1am', 'day-17; 7am', 'day-17; 1pm', 'day-17; 7pm', 'day-18; 1am', 'day-18; 7am', 'day-18; 1pm', 'day-18; 7pm',\n",
    "             'day-19; 1am', 'day-19; 7am', 'day-19; 1pm', 'day-19; 7pm', 'day-20; 1am', 'day-20; 7am', 'day-20; 1pm', 'day-20; 7pm', 'day-21; 1am', 'day-21; 7am',\n",
    "             'day-21; 1pm', 'day-21; 7pm', 'day-22; 1am', 'day-22; 7am', 'day-22; 1pm', 'day-22; 7pm', 'day-23; 1am', 'day-23; 7am', 'day-23; 1pm', 'day-23; 7pm',\n",
    "             'day-24; 1am', 'day-24; 7am', 'day-24; 1pm', 'day-24; 7pm', 'day-25; 1am', 'day-25; 7am', 'day-25; 1pm', 'day-25; 7pm', 'day-26; 1am', 'day-26; 7am',\n",
    "             'day-26; 1pm', 'day-26; 7pm'],\n",
    "    'VOLTAGE': [0.75, 0.706, 0.607, 0.456, 0.389, 0.349, 0.244, 0.187, 0.166, 0.159, 0.11, 0.098, 0.081, 0.083, 0.046, 0.055, 0.051, 0.484, 0.483, 0.62,\n",
    "                0.511, 0.478, 0.48, 0.5, 0.52, 0.54, 0.56, 0.58, 0.6, 0.62, 0.64, 0.66, 0.68, 0.7, 0.72, 0.74, 0.76, 0.78, 0.456, 0.62, 0.654, 0.625, 0.625, 0.515,\n",
    "                0.52, 0.625, 0.615, 0.628, 0.615, 0.628, 0.578, 0.634, 0.635, 0.645, 0.72, 0.8, 0.88, 0.946, 0.84, 0.894, 0.9, 0.89, 0.885, 0.88, 0.89, 0.9,\n",
    "                0.905, 0.91, 0.99, 0.995, 0.91, 0.92, 0.921, 0.923, 0.92, 0.92, 0.921, 0.92, 0.915, 0.925, 0.918, 0.908, 0.915, 0.923, 0.925, 0.93, 0.928, 0.93,\n",
    "                0.932, 0.935, 0.938, 0.94, 0.942, 0.956, 0.948, 0.95, 0.94, 0.91, 0.935, 0.946, 0.957, 0.961]\n",
    "}\n",
    "\n",
    "df = pd.DataFrame(data)\n"
   ]
  },
  {
   "cell_type": "markdown",
   "id": "4bed20a3-7e28-448e-be04-31091a2a2445",
   "metadata": {},
   "source": [
    "Proper datetime formatting"
   ]
  },
  {
   "cell_type": "code",
   "execution_count": null,
   "id": "a367852b-5ac1-4de7-8e57-1dc196eff93f",
   "metadata": {},
   "outputs": [],
   "source": [
    "\n",
    "def parse_datetime(day_time_str):\n",
    "    day, time = day_time_str.split('; ')\n",
    "    day = int(day.replace('day-', ''))\n",
    "    return pd.to_datetime(f'2025-03-{day:02d} {time}', format='%Y-%m-%d %I%p')\n",
    "\n",
    "df['TIME'] = df['TIME'].apply(parse_datetime)\n",
    "df = df.sort_values('TIME')"
   ]
  },
  {
   "cell_type": "markdown",
   "id": "4293912a-7af7-444c-b73f-803b7fee745a",
   "metadata": {},
   "source": [
    "Normalize the voltage data"
   ]
  },
  {
   "cell_type": "code",
   "execution_count": null,
   "id": "8adaec5e-66ca-4712-9ca0-14630f4850d1",
   "metadata": {},
   "outputs": [],
   "source": [
    "\n",
    "scaler = MinMaxScaler(feature_range=(0, 1))\n",
    "df['VOLTAGE'] = scaler.fit_transform(df['VOLTAGE'].values.reshape(-1, 1))"
   ]
  },
  {
   "cell_type": "markdown",
   "id": "32c8e3bd-aaa9-4c48-9175-6231d6b2296c",
   "metadata": {},
   "source": [
    "Function to create sequences"
   ]
  },
  {
   "cell_type": "code",
   "execution_count": null,
   "id": "1b9e9964-2d61-4006-ad04-7a52fab543b2",
   "metadata": {},
   "outputs": [],
   "source": [
    "\n",
    "def create_sequences(data, seq_length):\n",
    "    xs, ys = [], []\n",
    "    for i in range(len(data) - seq_length):\n",
    "        xs.append(data[i:i + seq_length])\n",
    "        ys.append(data[i + seq_length])\n",
    "    return np.array(xs), np.array(ys)"
   ]
  },
  {
   "cell_type": "markdown",
   "id": "66f875ea-d4f0-4e2a-9ac2-06d9e463674d",
   "metadata": {},
   "source": [
    "Create sequences"
   ]
  },
  {
   "cell_type": "code",
   "execution_count": null,
   "id": "fbfe4d95-5ebd-4c68-8c65-6037a84822f2",
   "metadata": {},
   "outputs": [],
   "source": [
    "\n",
    "SEQ_LENGTH = 10\n",
    "X, y = create_sequences(df['VOLTAGE'].values, SEQ_LENGTH)\n",
    "\n",
    "# Reshape for LSTM\n",
    "X = np.expand_dims(X, axis=-1)"
   ]
  },
  {
   "cell_type": "markdown",
   "id": "d7ac9d4e-9202-4ec9-afb8-a17d39cfe92d",
   "metadata": {},
   "source": [
    "Split into training and test sets"
   ]
  },
  {
   "cell_type": "code",
   "execution_count": null,
   "id": "6a9aab2b-03a8-4271-9d89-99a52f57e7d6",
   "metadata": {},
   "outputs": [],
   "source": [
    "\n",
    "X_train, X_test, y_train, y_test = train_test_split(X, y, test_size=0.2, random_state=42)"
   ]
  },
  {
   "cell_type": "markdown",
   "id": "c5b524a9-53d6-420e-a4a8-44049d7e9d32",
   "metadata": {},
   "source": [
    "Build the LSTM model"
   ]
  },
  {
   "cell_type": "code",
   "execution_count": null,
   "id": "ae9969ed-68df-47e0-9a60-fdbb7e9c7f9e",
   "metadata": {},
   "outputs": [],
   "source": [
    "\n",
    "model = Sequential([\n",
    "    Input(shape=(SEQ_LENGTH, 1)),\n",
    "    LSTM(64, return_sequences=True),\n",
    "    LSTM(64),\n",
    "    Dense(32, activation='relu'),\n",
    "    Dense(1)\n",
    "])\n",
    "\n",
    "model.compile(optimizer='adam', loss='mean_squared_error')"
   ]
  },
  {
   "cell_type": "markdown",
   "id": "c43e9e86-97f0-4b30-a4a0-95edecbac345",
   "metadata": {},
   "source": [
    "Train the model"
   ]
  },
  {
   "cell_type": "code",
   "execution_count": null,
   "id": "5846aa5e-d3cc-4cb3-94cb-1f7bca7c1a37",
   "metadata": {},
   "outputs": [],
   "source": [
    "\n",
    "history = model.fit(X_train, y_train, batch_size=16, epochs=20, validation_data=(X_test, y_test), verbose=0)"
   ]
  },
  {
   "cell_type": "markdown",
   "id": "3295dfd9-6277-4b64-9030-59866cc003ef",
   "metadata": {},
   "source": [
    "Predict on test data"
   ]
  },
  {
   "cell_type": "code",
   "execution_count": null,
   "id": "eb6210e2-3d2b-47d1-9b1f-b48d60b77cdf",
   "metadata": {},
   "outputs": [],
   "source": [
    "\n",
    "y_pred = model.predict(X_test)"
   ]
  },
  {
   "cell_type": "markdown",
   "id": "a5382d2b-829d-4f39-a121-b897af89d1f0",
   "metadata": {},
   "source": [
    "Inverse transform predictions and true values"
   ]
  },
  {
   "cell_type": "code",
   "execution_count": null,
   "id": "b88b28ea-88a2-4f26-9dc8-c217af9cc0b8",
   "metadata": {},
   "outputs": [],
   "source": [
    "\n",
    "y_pred_inv = scaler.inverse_transform(y_pred)\n",
    "y_test_inv = scaler.inverse_transform(y_test.reshape(-1, 1))"
   ]
  },
  {
   "cell_type": "markdown",
   "id": "c4549786-7247-4268-a7c1-b4af0c771446",
   "metadata": {},
   "source": [
    "Calculate metrics"
   ]
  },
  {
   "cell_type": "code",
   "execution_count": null,
   "id": "a1afd102-d0e8-46e5-a89a-eae71e1db5d1",
   "metadata": {},
   "outputs": [],
   "source": [
    "\n",
    "mse = mean_squared_error(y_test_inv, y_pred_inv)\n",
    "r2 = r2_score(y_test_inv, y_pred_inv)\n",
    "\n",
    "print(f'Mean Squared Error (MSE): {mse:.4f}')\n",
    "print(f'R² Score: {r2:.4f}')"
   ]
  },
  {
   "cell_type": "markdown",
   "id": "7833adc0-087c-4403-87e9-c17b040236d2",
   "metadata": {},
   "source": [
    "Plot predicted vs actual"
   ]
  },
  {
   "cell_type": "code",
   "execution_count": null,
   "id": "b6507180-0f5f-4381-92f6-c399e34d655b",
   "metadata": {},
   "outputs": [],
   "source": [
    "\n",
    "plt.figure(figsize=(14, 6))\n",
    "plt.plot(df['TIME'][-len(y_test_inv):], y_test_inv, label='True Voltage')\n",
    "plt.plot(df['TIME'][-len(y_test_inv):], y_pred_inv, label='Predicted Voltage', linestyle='dashed')\n",
    "plt.xlabel('Time')\n",
    "plt.ylabel('Voltage')\n",
    "plt.legend()\n",
    "plt.title('Voltage Prediction with LSTM')\n",
    "plt.show()"
   ]
  },
  {
   "cell_type": "markdown",
   "id": "51723b24-f41b-4fd8-8499-26fe473ee29d",
   "metadata": {},
   "source": [
    "Predict future voltage values"
   ]
  },
  {
   "cell_type": "code",
   "execution_count": null,
   "id": "bc065c1e-2fd5-412a-af93-0f4e477fccc0",
   "metadata": {},
   "outputs": [],
   "source": [
    "\n",
    "future_steps = 10\n",
    "last_sequence = df['VOLTAGE'].values[-SEQ_LENGTH:].reshape(1, SEQ_LENGTH, 1)\n",
    "\n",
    "future_voltages = []\n",
    "for _ in range(future_steps):\n",
    "    next_voltage = model.predict(last_sequence, verbose=0)[0][0]\n",
    "    future_voltages.append(next_voltage)\n",
    "    last_sequence = np.roll(last_sequence, -1)\n",
    "    last_sequence[0, -1, 0] = next_voltage"
   ]
  },
  {
   "cell_type": "markdown",
   "id": "d2df3cc6-980c-40ac-85c8-4b4d7fcf7510",
   "metadata": {},
   "source": [
    "Inverse scale"
   ]
  },
  {
   "cell_type": "code",
   "execution_count": null,
   "id": "6868f22a-ba7d-4c42-a970-e8a0d2395f5e",
   "metadata": {},
   "outputs": [],
   "source": [
    "\n",
    "future_voltages = scaler.inverse_transform(np.array(future_voltages).reshape(-1, 1))"
   ]
  },
  {
   "cell_type": "markdown",
   "id": "8c611a1f-c596-416d-b122-729c58b6bec7",
   "metadata": {},
   "source": [
    "Future time steps"
   ]
  },
  {
   "cell_type": "code",
   "execution_count": null,
   "id": "25ff8b78-ef98-4a5a-9a4c-cbba1ff42e03",
   "metadata": {},
   "outputs": [],
   "source": [
    "\n",
    "future_dates = pd.date_range(df['TIME'].iloc[-1] + pd.Timedelta(hours=7), periods=future_steps, freq='7h')"
   ]
  },
  {
   "cell_type": "markdown",
   "id": "e4d4b61a-1129-4d9b-8b1a-49ffa78edf4a",
   "metadata": {},
   "source": [
    "Plot future prediction"
   ]
  },
  {
   "cell_type": "code",
   "execution_count": null,
   "id": "eb0c6835-58c7-452b-a283-1f97f135d98c",
   "metadata": {},
   "outputs": [],
   "source": [
    "\n",
    "plt.figure(figsize=(14, 6))\n",
    "plt.plot(df['TIME'], scaler.inverse_transform(df['VOLTAGE'].values.reshape(-1, 1)), label='Historical Voltage')\n",
    "plt.plot(future_dates, future_voltages, label='Future Predicted Voltage', linestyle='dashed', color='orange')\n",
    "plt.xlabel('Time')\n",
    "plt.ylabel('Voltage')\n",
    "plt.legend()\n",
    "plt.title('Future Voltage Prediction')\n",
    "plt.show()"
   ]
  },
  {
   "cell_type": "markdown",
   "id": "6ba8cc4b-295c-49fe-a733-45aa77dd90ae",
   "metadata": {},
   "source": [
    "Print future predictions"
   ]
  },
  {
   "cell_type": "code",
   "execution_count": null,
   "id": "8f288adb-40a9-48d7-8fc1-5018fc52685c",
   "metadata": {},
   "outputs": [],
   "source": [
    "\n",
    "print(\"\\nFuture Voltage Predictions:\")\n",
    "for date, voltage in zip(future_dates, future_voltages):\n",
    "    print(f\"{date.strftime('%Y-%m-%d %I:%M %p')}: {voltage[0]:.4f} V\")"
   ]
  },
  {
   "cell_type": "markdown",
   "id": "f3ad504f-4819-4b7f-8458-4c3df4cbee53",
   "metadata": {},
   "source": [
    "Evaluate on train/test"
   ]
  },
  {
   "cell_type": "code",
   "execution_count": null,
   "id": "73f48413-2527-4aee-9b91-a282ed2bf853",
   "metadata": {},
   "outputs": [],
   "source": [
    "\n",
    "y_train_pred = model.predict(X_train)\n",
    "y_test_pred = model.predict(X_test)"
   ]
  },
  {
   "cell_type": "markdown",
   "id": "8f19dac5-cf6e-485a-b350-8ae9110817ea",
   "metadata": {},
   "source": [
    "Inverse transform"
   ]
  },
  {
   "cell_type": "code",
   "execution_count": null,
   "id": "a285fb49-d9a2-46c7-a838-fab06641483f",
   "metadata": {},
   "outputs": [],
   "source": [
    "\n",
    "y_train_pred = scaler.inverse_transform(y_train_pred)\n",
    "y_train = scaler.inverse_transform(y_train.reshape(-1, 1))\n",
    "y_test_pred = scaler.inverse_transform(y_test_pred)\n",
    "y_test = scaler.inverse_transform(y_test.reshape(-1, 1))"
   ]
  },
  {
   "cell_type": "markdown",
   "id": "eed038a2-3a33-4a7b-ac32-603e9ae2d49c",
   "metadata": {},
   "source": [
    "R² scores"
   ]
  },
  {
   "cell_type": "code",
   "execution_count": null,
   "id": "fda78d65-ee7e-488c-9396-1724487cfcfd",
   "metadata": {},
   "outputs": [],
   "source": [
    "\n",
    "r2_train = r2_score(y_train, y_train_pred)\n",
    "r2_test = r2_score(y_test, y_test_pred)\n",
    "\n",
    "print(f\"Train R² Score: {r2_train:.4f}\")\n",
    "print(f\"Test R² Score: {r2_test:.4f}\")"
   ]
  },
  {
   "cell_type": "markdown",
   "id": "271b8e22-7885-43f7-9806-c6e5daaae139",
   "metadata": {},
   "source": [
    "Plot training and testing predictions"
   ]
  },
  {
   "cell_type": "code",
   "execution_count": null,
   "id": "e163b310-f379-4816-9484-e3c85d4875fb",
   "metadata": {},
   "outputs": [],
   "source": [
    "\n",
    "fig, axs = plt.subplots(2, 1, figsize=(14, 10))\n",
    "\n",
    "axs[0].plot(y_train, label='True Voltage (Train)', color='blue')\n",
    "axs[0].plot(y_train_pred, label='Predicted Voltage (Train)', linestyle='dashed', color='green')\n",
    "axs[0].set_title(f'Training Set - R²: {r2_train:.4f}')\n",
    "axs[0].set_xlabel('Sample')\n",
    "axs[0].set_ylabel('Voltage (V)')\n",
    "axs[0].legend()\n",
    "\n",
    "axs[1].plot(y_test, label='True Voltage (Test)', color='blue')\n",
    "axs[1].plot(y_test_pred, label='Predicted Voltage (Test)', linestyle='dashed', color='red')\n",
    "axs[1].set_title(f'Testing Set - R²: {r2_test:.4f}')\n",
    "axs[1].set_xlabel('Sample')\n",
    "axs[1].set_ylabel('Voltage (V)')\n",
    "axs[1].legend()\n",
    "\n",
    "plt.tight_layout()\n",
    "plt.show()\n"
   ]
  }
 ],
 "metadata": {
  "kernelspec": {
   "display_name": "Python 3 (ipykernel)",
   "language": "python",
   "name": "python3"
  },
  "language_info": {
   "codemirror_mode": {
    "name": "ipython",
    "version": 3
   },
   "file_extension": ".py",
   "mimetype": "text/x-python",
   "name": "python",
   "nbconvert_exporter": "python",
   "pygments_lexer": "ipython3",
   "version": "3.13.3"
  }
 },
 "nbformat": 4,
 "nbformat_minor": 5
}
