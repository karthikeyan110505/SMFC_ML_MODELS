{
 "cells": [
  {
   "cell_type": "markdown",
   "id": "a65f8ad5-c1ad-46d6-8795-c8704e1991c6",
   "metadata": {},
   "source": [
    "Import Libraries"
   ]
  },
  {
   "cell_type": "code",
   "execution_count": null,
   "id": "32ded274-a640-4b9f-b3c1-c6bae9de1f12",
   "metadata": {},
   "outputs": [],
   "source": [
    "import pandas as pd\n",
    "import numpy as np\n",
    "from sklearn.preprocessing import MinMaxScaler\n",
    "from sklearn.model_selection import train_test_split\n",
    "from tensorflow.keras.models import Sequential\n",
    "from tensorflow.keras.layers import Dense, Dropout\n",
    "import matplotlib.pyplot as plt\n",
    "from sklearn.neural_network import MLPRegressor\n",
    "from sklearn.metrics import mean_squared_error, r2_score"
   ]
  },
  {
   "cell_type": "markdown",
   "id": "b2daf29d-bea8-4c57-81d5-2db407faf9a9",
   "metadata": {},
   "source": [
    "Reload the dataset"
   ]
  },
  {
   "cell_type": "code",
   "execution_count": null,
   "id": "b1c1af63-18a5-4f3a-a712-a3642052f9d7",
   "metadata": {},
   "outputs": [],
   "source": [
    "\n",
    "data = {\n",
    "    'TIME': ['day-1; 1pm', 'day-1; 7pm', 'day-2; 1am', 'day-2; 7am', 'day-2; 1pm', 'day-2; 7pm',\n",
    "             'day-3; 1am', 'day-3; 7am', 'day-3; 1pm', 'day-3; 7pm'] * 10,  # Simulating 100 samples\n",
    "    'VOLTAGE': [0.75, 0.706, 0.607, 0.456, 0.389, 0.349, 0.244, 0.187, 0.166, 0.159,\n",
    "                0.11, 0.098, 0.081, 0.083, 0.046, 0.055, 0.051, 0.484, 0.483, 0.62,\n",
    "                0.511, 0.478, 0.48, 0.5, 0.52, 0.54, 0.56, 0.58, 0.6, 0.62,\n",
    "                0.64, 0.66, 0.68, 0.7, 0.72, 0.74, 0.76, 0.78, 0.456, 0.62,\n",
    "                0.654, 0.625, 0.625, 0.515, 0.52, 0.625, 0.615, 0.628, 0.615, 0.628,\n",
    "                0.578, 0.634, 0.635, 0.645, 0.72, 0.8, 0.88, 0.946, 0.84, 0.894,\n",
    "                0.9, 0.89, 0.885, 0.88, 0.89, 0.9, 0.905, 0.91, 0.99, 0.995,\n",
    "                0.91, 0.92, 0.921, 0.923, 0.92, 0.92, 0.921, 0.92, 0.915, 0.925,\n",
    "                0.918, 0.908, 0.915, 0.923, 0.925, 0.93, 0.928, 0.93, 0.932, 0.935,\n",
    "                0.938, 0.94, 0.942, 0.956, 0.948, 0.95, 0.94, 0.91, 0.935, 0.946]\n",
    "}\n",
    "\n",
    "# Create the DataFrame\n",
    "df = pd.DataFrame(data)"
   ]
  },
  {
   "cell_type": "markdown",
   "id": "a1123f3b-94b3-4a52-99ec-903a522c279f",
   "metadata": {},
   "source": [
    "Convert TIME column to datetime"
   ]
  },
  {
   "cell_type": "code",
   "execution_count": null,
   "id": "113ceb65-23ff-46f3-a424-23aafa7fce42",
   "metadata": {},
   "outputs": [],
   "source": [
    "\n",
    "def parse_datetime(day_time_str):\n",
    "    day, time = day_time_str.split('; ')\n",
    "    day = int(day.replace('day-', ''))\n",
    "    return pd.to_datetime(f'2025-03-{day} {time}', format='%Y-%m-%d %I%p')\n",
    "\n",
    "df['TIME'] = df['TIME'].apply(parse_datetime)"
   ]
  },
  {
   "cell_type": "markdown",
   "id": "99e4472a-5c1d-45da-bce9-e1e41197ae37",
   "metadata": {},
   "source": [
    "Sort the dataframe by time"
   ]
  },
  {
   "cell_type": "code",
   "execution_count": null,
   "id": "52adea10-1533-4138-b19d-8557306e26f3",
   "metadata": {},
   "outputs": [],
   "source": [
    "\n",
    "df = df.sort_values('TIME')\n",
    "\n",
    "# Feature Engineering\n",
    "df['TIME_SIN'] = np.sin(2 * np.pi * df['TIME'].dt.hour / 24)\n",
    "df['TIME_COS'] = np.cos(2 * np.pi * df['TIME'].dt.hour / 24)"
   ]
  },
  {
   "cell_type": "markdown",
   "id": "586c8f70-e9d6-4ce9-a1f9-6cf749927023",
   "metadata": {},
   "source": [
    "Normalize the voltage data"
   ]
  },
  {
   "cell_type": "code",
   "execution_count": null,
   "id": "48008e76-d35b-4be8-8e11-7093c78046ec",
   "metadata": {},
   "outputs": [],
   "source": [
    "\n",
    "scaler = MinMaxScaler(feature_range=(0, 1))\n",
    "df['VOLTAGE'] = scaler.fit_transform(df['VOLTAGE'].values.reshape(-1, 1))"
   ]
  },
  {
   "cell_type": "markdown",
   "id": "b6f6f621-f3b2-48b5-a559-7f229ec1df3a",
   "metadata": {},
   "source": [
    "Prepare features and target"
   ]
  },
  {
   "cell_type": "code",
   "execution_count": null,
   "id": "1c1b01f8-a74a-431a-abdd-26e9d97e19d7",
   "metadata": {},
   "outputs": [],
   "source": [
    "\n",
    "X = df[['TIME_SIN', 'TIME_COS']].values\n",
    "y = df['VOLTAGE'].values"
   ]
  },
  {
   "cell_type": "markdown",
   "id": "c69987bc-23b3-4c06-8c0a-4cf821736508",
   "metadata": {},
   "source": [
    "Split into training and test sets"
   ]
  },
  {
   "cell_type": "code",
   "execution_count": null,
   "id": "b8ec734a-8cbd-44f0-a266-0a68f3d0caaf",
   "metadata": {},
   "outputs": [],
   "source": [
    "\n",
    "X_train, X_test, y_train, y_test = train_test_split(X, y, test_size=0.2, random_state=42)"
   ]
  },
  {
   "cell_type": "markdown",
   "id": "1bf673c1-8dc6-42b4-8f07-336f128a1d01",
   "metadata": {},
   "source": [
    "Train the ANN model using MLPRegressor"
   ]
  },
  {
   "cell_type": "code",
   "execution_count": null,
   "id": "9dc3b8b0-52cd-41ff-922b-ad07b8b87397",
   "metadata": {},
   "outputs": [],
   "source": [
    "\n",
    "mlp_model = MLPRegressor(hidden_layer_sizes=(64, 128, 64), activation='relu', max_iter=150, random_state=42)\n",
    "mlp_model.fit(X_train, y_train)"
   ]
  },
  {
   "cell_type": "markdown",
   "id": "87b103ca-816d-4500-9a55-5db4d5ca60aa",
   "metadata": {},
   "source": [
    "Predict on the test set"
   ]
  },
  {
   "cell_type": "code",
   "execution_count": null,
   "id": "b5bbc515-7e73-4918-a652-322545fae1bd",
   "metadata": {},
   "outputs": [],
   "source": [
    "\n",
    "y_pred = mlp_model.predict(X_test)"
   ]
  },
  {
   "cell_type": "markdown",
   "id": "d42ff43c-be03-466c-8172-7a9756e25ed3",
   "metadata": {},
   "source": [
    "Inverse transform the predictions and actual values"
   ]
  },
  {
   "cell_type": "code",
   "execution_count": null,
   "id": "6cb541b0-7c70-491f-8f2b-1cdddc5decfd",
   "metadata": {},
   "outputs": [],
   "source": [
    "\n",
    "y_pred_inv = scaler.inverse_transform(y_pred.reshape(-1, 1))\n",
    "y_test_inv = scaler.inverse_transform(y_test.reshape(-1, 1))"
   ]
  },
  {
   "cell_type": "markdown",
   "id": "38f0e24b-227e-46c8-bc24-2a465c1081f8",
   "metadata": {},
   "source": [
    "Calculate MSE and R² score"
   ]
  },
  {
   "cell_type": "code",
   "execution_count": null,
   "id": "b764280b-0531-4367-a1a6-4f90534a3677",
   "metadata": {},
   "outputs": [],
   "source": [
    "\n",
    "mse = mean_squared_error(y_test_inv, y_pred_inv)\n",
    "r2 = r2_score(y_test_inv, y_pred_inv)\n",
    "\n",
    "# Print the results\n",
    "print(f'Mean Squared Error (MSE): {mse:.4f}')\n",
    "print(f'R² Score: {r2:.4f}')"
   ]
  },
  {
   "cell_type": "markdown",
   "id": "64f2478e-265b-4a7d-b8f6-cb68a63a5941",
   "metadata": {},
   "source": [
    "Plot actual vs predicted"
   ]
  },
  {
   "cell_type": "code",
   "execution_count": null,
   "id": "be339298-4323-4967-8c13-32b592bafb04",
   "metadata": {},
   "outputs": [],
   "source": [
    "\n",
    "plt.figure(figsize=(14, 6))\n",
    "plt.plot(y_test_inv, label='True Voltage', color='blue')\n",
    "plt.plot(y_pred_inv, label='Predicted Voltage', linestyle='dashed', color='orange')\n",
    "plt.xlabel('Samples')\n",
    "plt.ylabel('Voltage (V)')\n",
    "plt.legend()\n",
    "plt.title('ANN Voltage Prediction using MLPRegressor')\n",
    "plt.show()"
   ]
  },
  {
   "cell_type": "markdown",
   "id": "ab8e3397-f460-4c25-a98d-5f0e9b6fcf04",
   "metadata": {},
   "source": [
    "Future prediction"
   ]
  },
  {
   "cell_type": "code",
   "execution_count": null,
   "id": "eec6dd6a-4854-4827-ae3f-d6aecd32c7e0",
   "metadata": {},
   "outputs": [],
   "source": [
    "\n",
    "future_steps = 10\n",
    "future_hours = np.arange(1, future_steps + 1) * 7  # 7-hour intervals\n",
    "future_sin = np.sin(2 * np.pi * future_hours / 24)\n",
    "future_cos = np.cos(2 * np.pi * future_hours / 24)\n",
    "future_X = np.column_stack((future_sin, future_cos))"
   ]
  },
  {
   "cell_type": "markdown",
   "id": "a56feca5-5d46-4e13-9f22-127eeb1d1281",
   "metadata": {},
   "source": [
    "Make future predictions"
   ]
  },
  {
   "cell_type": "code",
   "execution_count": null,
   "id": "2a925465-1fa7-4687-880a-cc6d50a71834",
   "metadata": {},
   "outputs": [],
   "source": [
    "\n",
    "future_pred = mlp_model.predict(future_X)\n",
    "future_pred_inv = scaler.inverse_transform(future_pred.reshape(-1, 1))"
   ]
  },
  {
   "cell_type": "markdown",
   "id": "ebce0b6b-b088-4a5b-b7ce-8f41aec2943c",
   "metadata": {},
   "source": [
    "Create future dates for plotting and Plot future predictions"
   ]
  },
  {
   "cell_type": "code",
   "execution_count": null,
   "id": "41f01759-27ac-4902-93c8-4dad298d97b0",
   "metadata": {},
   "outputs": [],
   "source": [
    "\n",
    "future_dates = pd.date_range(df['TIME'].iloc[-1] + pd.Timedelta(hours=7), periods=future_steps, freq='7h')\n",
    "\n",
    "plt.figure(figsize=(14, 6))\n",
    "plt.plot(df['TIME'], scaler.inverse_transform(df['VOLTAGE'].values.reshape(-1, 1)), label='Historical Voltage')\n",
    "plt.plot(future_dates, future_pred_inv, label='Future Predicted Voltage', linestyle='dashed', color='green')\n",
    "plt.xlabel('Time')\n",
    "plt.ylabel('Voltage (V)')\n",
    "plt.legend()\n",
    "plt.title('Future Voltage Prediction with MLPRegressor')\n",
    "plt.show()"
   ]
  },
  {
   "cell_type": "markdown",
   "id": "8ffb8e71-8df6-479e-9a85-2e9b34ae5aa9",
   "metadata": {},
   "source": [
    "Train and test predictions"
   ]
  },
  {
   "cell_type": "code",
   "execution_count": null,
   "id": "8d7c01cd-65dc-4f7c-98b6-3f61e93fadd4",
   "metadata": {},
   "outputs": [],
   "source": [
    "\n",
    "y_train_pred = mlp_model.predict(X_train)\n",
    "y_train_pred_inv = scaler.inverse_transform(y_train_pred.reshape(-1, 1))\n",
    "y_train_inv = scaler.inverse_transform(y_train.reshape(-1, 1))"
   ]
  },
  {
   "cell_type": "markdown",
   "id": "36b35462-3676-4436-948c-cdd4e533c0f0",
   "metadata": {},
   "source": [
    "Calculate R² scores"
   ]
  },
  {
   "cell_type": "code",
   "execution_count": null,
   "id": "eadfb8d5-6397-495b-a50a-47651271e4de",
   "metadata": {},
   "outputs": [],
   "source": [
    "\n",
    "r2_train = r2_score(y_train_inv, y_train_pred_inv)\n",
    "r2_test = r2_score(y_test_inv, y_pred_inv)\n",
    "\n",
    "mse_1 = mean_squared_error(y_train_inv, y_train_pred_inv)\n",
    "mse_2 = mean_squared_error(y_test_inv, y_pred_inv)"
   ]
  },
  {
   "cell_type": "markdown",
   "id": "14ca3df7-2ac1-47b8-ab5f-1b18f5164620",
   "metadata": {},
   "source": [
    "Print future predictions"
   ]
  },
  {
   "cell_type": "code",
   "execution_count": null,
   "id": "79c5bf91-55b3-4ef6-862c-d58d427f92b2",
   "metadata": {},
   "outputs": [],
   "source": [
    "\n",
    "future_results = list(zip(future_dates, future_pred_inv.flatten()))\n",
    "future_results[:10]  # Displaying the first 10 future predictions for verification"
   ]
  },
  {
   "cell_type": "markdown",
   "id": "13cd4478-caab-4305-a44b-2c18a186cfbd",
   "metadata": {},
   "source": [
    "Plot Train Data, Plot Test Data and Print R² scores"
   ]
  },
  {
   "cell_type": "code",
   "execution_count": null,
   "id": "51660d89-348a-411c-8cce-82816b00bf1f",
   "metadata": {},
   "outputs": [],
   "source": [
    "\n",
    "plt.figure(figsize=(14, 6))\n",
    "plt.plot(y_train_inv, label='True Voltage (Train)', color='blue')\n",
    "plt.plot(y_train_pred_inv, label='Predicted Voltage (Train)', linestyle='dashed', color='orange')\n",
    "plt.xlabel('Samples')\n",
    "plt.ylabel('Voltage (V)')\n",
    "plt.legend()\n",
    "plt.title(f'ANN Voltage Prediction (Train) - R²: {r2_train:.4f}')\n",
    "plt.show()\n",
    "\n",
    "plt.figure(figsize=(14, 6))\n",
    "plt.plot(y_test_inv, label='True Voltage (Test)', color='green')\n",
    "plt.plot(y_pred_inv, label='Predicted Voltage (Test)', linestyle='dashed', color='red')\n",
    "plt.xlabel('Samples')\n",
    "plt.ylabel('Voltage (V)')\n",
    "plt.legend()\n",
    "plt.title(f'ANN Voltage Prediction (Test) - R²: {r2_test:.4f}')\n",
    "plt.show()\n",
    "\n",
    "print(f'R² Score (Train): {r2_train:.4f}')\n",
    "print(f'R² Score (Test): {r2_test:.4f}')\n",
    "print(f'Mean Squared Error (train): {mse_1:.4f}')\n",
    "print(f'Mean Squared Error (test): {mse_2:.4f}')"
   ]
  }
 ],
 "metadata": {
  "kernelspec": {
   "display_name": "Python 3",
   "language": "python",
   "name": "python3"
  },
  "language_info": {
   "codemirror_mode": {
    "name": "ipython",
    "version": 3
   },
   "file_extension": ".py",
   "mimetype": "text/x-python",
   "name": "python",
   "nbconvert_exporter": "python",
   "pygments_lexer": "ipython3",
   "version": "3.13.3"
  }
 },
 "nbformat": 4,
 "nbformat_minor": 5
}
