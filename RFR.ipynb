{
 "cells": [
  {
   "cell_type": "markdown",
   "id": "d2d690d9-1e4f-468a-99a3-58c4694402b4",
   "metadata": {},
   "source": [
    "Import libraries and modules"
   ]
  },
  {
   "cell_type": "code",
   "execution_count": null,
   "id": "ba67a4a5-fa9c-4b24-ae94-2d8baec80d70",
   "metadata": {},
   "outputs": [],
   "source": [
    "import pandas as pd\n",
    "import matplotlib.pyplot as plt\n",
    "import seaborn as sns\n",
    "from sklearn.model_selection import train_test_split\n",
    "from sklearn.ensemble import RandomForestRegressor\n",
    "from sklearn.metrics import mean_squared_error, r2_score\n",
    "import numpy as np"
   ]
  },
  {
   "cell_type": "markdown",
   "id": "8542ad80-fa6b-4fb5-a7a8-e9f8338db090",
   "metadata": {},
   "source": [
    "Load the data from CSV"
   ]
  },
  {
   "cell_type": "code",
   "execution_count": null,
   "id": "e9abcacf-bc38-4374-887b-5f7a7093477f",
   "metadata": {},
   "outputs": [],
   "source": [
    "data = pd.read_csv('data_smfc_data.csv')"
   ]
  },
  {
   "cell_type": "markdown",
   "id": "c252d609-60ed-4454-ae71-62b9eee0bba3",
   "metadata": {},
   "source": [
    "Convert TIME to datetime and extract features"
   ]
  },
  {
   "cell_type": "code",
   "execution_count": null,
   "id": "fc62b646-237b-4bf6-960d-b5408b4d1331",
   "metadata": {},
   "outputs": [],
   "source": [
    "data['TIME'] = pd.to_datetime(data['TIME'], format='day-%d; %I%p')\n",
    "data['Day'] = data['TIME'].dt.day\n",
    "data['Hour'] = data['TIME'].dt.hour"
   ]
  },
  {
   "cell_type": "markdown",
   "id": "27379d76-3b3a-40ad-ae15-5765dfa88633",
   "metadata": {},
   "source": [
    "Create lag features"
   ]
  },
  {
   "cell_type": "code",
   "execution_count": null,
   "id": "0ac24386-bc46-439c-ac15-6a8a6b9ec28e",
   "metadata": {},
   "outputs": [],
   "source": [
    "data['VOLTAGE_LAG_1'] = data['VOLTAGE'].shift(1)\n",
    "data['VOLTAGE_LAG_2'] = data['VOLTAGE'].shift(2)\n",
    "data = data.dropna()"
   ]
  },
  {
   "cell_type": "markdown",
   "id": "3254c65f-0bc1-4391-a45b-1544984bd30d",
   "metadata": {},
   "source": [
    "Prepare the data"
   ]
  },
  {
   "cell_type": "code",
   "execution_count": null,
   "id": "f507af24-7406-49c6-849a-304ff693950b",
   "metadata": {},
   "outputs": [],
   "source": [
    "X = data[['Day', 'Hour', 'VOLTAGE_LAG_1', 'VOLTAGE_LAG_2']]\n",
    "y = data['VOLTAGE']"
   ]
  },
  {
   "cell_type": "markdown",
   "id": "c11f6fa4-db1e-4341-8ddc-87c3ac5b8f5d",
   "metadata": {},
   "source": [
    "Split the data"
   ]
  },
  {
   "cell_type": "code",
   "execution_count": null,
   "id": "a61837f2-57fd-4743-8d49-26e52c6d9a40",
   "metadata": {},
   "outputs": [],
   "source": [
    "X_train, X_test, y_train, y_test = train_test_split(X, y, test_size=0.2, random_state=42)"
   ]
  },
  {
   "cell_type": "markdown",
   "id": "88955da9-977f-414f-af04-c4277260cb8a",
   "metadata": {},
   "source": [
    "Train the model"
   ]
  },
  {
   "cell_type": "code",
   "execution_count": null,
   "id": "f09141f9-63ac-430d-95e7-48c3476dadfd",
   "metadata": {},
   "outputs": [],
   "source": [
    "model = RandomForestRegressor(n_estimators=100, random_state=42)\n",
    "model.fit(X_train, y_train)"
   ]
  },
  {
   "cell_type": "markdown",
   "id": "a18b4044-77c0-4bd4-87bc-43d5f8b8484f",
   "metadata": {},
   "source": [
    "Test the model"
   ]
  },
  {
   "cell_type": "code",
   "execution_count": null,
   "id": "34a8623b-303e-4dca-8489-29f197e98ffa",
   "metadata": {},
   "outputs": [],
   "source": [
    "y_pred = model.predict(X_test)\n",
    "mse = mean_squared_error(y_test, y_pred)\n",
    "r2 = r2_score(y_test, y_pred)\n",
    "\n",
    "print(f'Mean Squared Error: {mse}')\n",
    "print(f'R^2 Score: {r2}')"
   ]
  },
  {
   "cell_type": "markdown",
   "id": "8bdc3471-c653-458e-8652-33a7bd43b388",
   "metadata": {},
   "source": [
    "Predict future voltages"
   ]
  },
  {
   "cell_type": "code",
   "execution_count": null,
   "id": "d4c4fe6f-ea34-4152-be97-0a30968adca2",
   "metadata": {},
   "outputs": [],
   "source": [
    "future_days = np.arange(27, 33)  # Predict for days 27 to 32\n",
    "future_hours = [1, 7, 13, 19]  # Same hours as in the dataset"
   ]
  },
  {
   "cell_type": "markdown",
   "id": "518c5f3f-3208-4ed5-bb3f-49f7116bc545",
   "metadata": {},
   "source": [
    "Initialize with the last known data point"
   ]
  },
  {
   "cell_type": "code",
   "execution_count": null,
   "id": "d542f6df-56ba-4de8-879e-30b3f0a6262f",
   "metadata": {},
   "outputs": [],
   "source": [
    "last_known_voltage = data.iloc[-1]['VOLTAGE']\n",
    "last_known_voltage_lag_1 = data.iloc[-1]['VOLTAGE_LAG_1']\n",
    "last_known_voltage_lag_2 = data.iloc[-1]['VOLTAGE_LAG_2']\n",
    "\n",
    "future_predictions = []\n",
    "for day in future_days:\n",
    "    for hour in future_hours:\n",
    "        future_data = pd.DataFrame([(day, hour, last_known_voltage_lag_1, last_known_voltage_lag_2)], columns=['Day', 'Hour', 'VOLTAGE_LAG_1', 'VOLTAGE_LAG_2'])\n",
    "        future_voltage = model.predict(future_data)[0]\n",
    "        future_predictions.append([day, hour,future_voltage])\n",
    "        last_known_voltage_lag_2 = last_known_voltage_lag_1\n",
    "        last_known_voltage_lag_1 = last_known_voltage\n",
    "        last_known_voltage = future_voltage"
   ]
  },
  {
   "cell_type": "markdown",
   "id": "66bb65c1-33ce-4580-9851-a3615d2969fd",
   "metadata": {},
   "source": [
    "Display future predictions"
   ]
  },
  {
   "cell_type": "code",
   "execution_count": null,
   "id": "fd484da6-c96d-471e-85c4-4a6f395c5a8c",
   "metadata": {},
   "outputs": [],
   "source": [
    "for day, hour, voltage in future_predictions:\n",
    "    print(f'Day {day}, Hour {hour}: Predicted Voltage = {voltage:.3f} V')"
   ]
  },
  {
   "cell_type": "markdown",
   "id": "024473a4-b3ca-484f-b25b-bc5f2a625f2b",
   "metadata": {},
   "source": [
    "Predict on training set for plotting"
   ]
  },
  {
   "cell_type": "code",
   "execution_count": null,
   "id": "4816d54e-eddc-4c33-8382-04a4f6d409bd",
   "metadata": {},
   "outputs": [],
   "source": [
    "y_train_pred = model.predict(X_train)\n",
    "y_test_pred = y_pred  # Already predicted earlier"
   ]
  },
  {
   "cell_type": "markdown",
   "id": "945dc807-f143-46fa-8432-15b0d348bbb3",
   "metadata": {},
   "source": [
    "R² for train/test sets"
   ]
  },
  {
   "cell_type": "code",
   "execution_count": null,
   "id": "b85dd588-8214-4faf-ae1e-a6cc9f635b24",
   "metadata": {},
   "outputs": [],
   "source": [
    "r2_train = r2_score(y_train, y_train_pred)\n",
    "r2_test = r2_score(y_test, y_test_pred)"
   ]
  },
  {
   "cell_type": "markdown",
   "id": "2ba5fbf7-f232-40bc-bf6b-3ab38e2d3739",
   "metadata": {},
   "source": [
    "Calculate R² scores"
   ]
  },
  {
   "cell_type": "code",
   "execution_count": null,
   "id": "4c91e801-7638-43b2-8508-bc4d9cb6d910",
   "metadata": {},
   "outputs": [],
   "source": [
    "print(\" \")\n",
    "print(f'Training R² Score: {r2_train:.4f}')\n",
    "print(f'Test R² Score: {r2_test:.4f}')"
   ]
  },
  {
   "cell_type": "markdown",
   "id": "912360f4-f1ae-45e0-9502-0f8a171d8924",
   "metadata": {},
   "source": [
    "Plotting the results of Training set plot and Test set"
   ]
  },
  {
   "cell_type": "code",
   "execution_count": null,
   "id": "b8d80291-78fd-439b-9183-fe9a5bcd3cab",
   "metadata": {},
   "outputs": [],
   "source": [
    "fig, axs = plt.subplots(1, 2, figsize=(14, 6))\n",
    "axs[0].scatter(y_train, y_train_pred, color='royalblue', alpha=0.6, label=f'R²: {r2_train:.4f}')\n",
    "axs[0].plot([min(y_train), max(y_train)], [min(y_train), max(y_train)], color='red', lw=2)  # y = x line\n",
    "axs[0].set_title('Training Set')\n",
    "axs[0].set_xlabel('Actual Voltage')\n",
    "axs[0].set_ylabel('Predicted Voltage')\n",
    "axs[0].legend()\n",
    "    \n",
    "axs[1].scatter(y_test, y_test_pred, color='seagreen', alpha=0.6, label=f'R²: {r2_test:.4f}')\n",
    "axs[1].plot([min(y_test), max(y_test)], [min(y_test), max(y_test)], color='red', lw=2)  # y = x line\n",
    "axs[1].set_title('Test Set')\n",
    "axs[1].set_xlabel('Actual Voltage')\n",
    "axs[1].set_ylabel('Predicted Voltage')\n",
    "axs[1].legend()\n",
    "    \n",
    "plt.suptitle('Random Forest Regressor: Actual vs. Predicted Voltage')\n",
    "plt.tight_layout()\n",
    "plt.show()"
   ]
  },
  {
   "cell_type": "markdown",
   "id": "21d58171-8098-4c25-b9e8-40abc2b3a71a",
   "metadata": {},
   "source": [
    "Reshape future_prediction for heatmap"
   ]
  },
  {
   "cell_type": "code",
   "execution_count": null,
   "id": "e0fdabb3-8428-4f2a-b216-d1b9a5e2a98a",
   "metadata": {},
   "outputs": [],
   "source": [
    "future_predictions_df = pd.DataFrame(future_predictions, columns=['Day', 'Hour', 'Voltage'])\n",
    "heatmap_data = future_predictions_df.pivot(index='Day', columns='Hour', values='Voltage')"
   ]
  },
  {
   "cell_type": "markdown",
   "id": "dbe72a26-0c12-4755-a706-34a1faa92f02",
   "metadata": {},
   "source": [
    "Create the heatmap"
   ]
  },
  {
   "cell_type": "code",
   "execution_count": null,
   "id": "38569e8f-3e59-4abf-bf0c-f4b9b656522a",
   "metadata": {},
   "outputs": [],
   "source": [
    "plt.figure(figsize=(10, 6))\n",
    "sns.heatmap(heatmap_data, annot=True, fmt='.3f', cmap='viridis')\n",
    "plt.title('Predicted voltage Heatmap')\n",
    "plt.xlabel('Hour')\n",
    "plt.ylabel('Day')\n",
    "plt.show()"
   ]
  },
  {
   "cell_type": "code",
   "execution_count": null,
   "id": "2272afba-bdc4-4d1d-bf61-b56b8936fa19",
   "metadata": {},
   "outputs": [],
   "source": []
  }
 ],
 "metadata": {
  "kernelspec": {
   "display_name": "Python 3 (ipykernel)",
   "language": "python",
   "name": "python3"
  },
  "language_info": {
   "codemirror_mode": {
    "name": "ipython",
    "version": 3
   },
   "file_extension": ".py",
   "mimetype": "text/x-python",
   "name": "python",
   "nbconvert_exporter": "python",
   "pygments_lexer": "ipython3",
   "version": "3.13.3"
  }
 },
 "nbformat": 4,
 "nbformat_minor": 5
}
